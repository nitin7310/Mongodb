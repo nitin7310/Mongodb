{
  "nbformat": 4,
  "nbformat_minor": 0,
  "metadata": {
    "colab": {
      "provenance": []
    },
    "kernelspec": {
      "name": "python3",
      "display_name": "Python 3"
    },
    "language_info": {
      "name": "python"
    }
  },
  "cells": [
    {
      "cell_type": "markdown",
      "source": [
        "Q1. What are the key differences between SQL and NoSQL databases?\n",
        "\n",
        "  ->>\n",
        "- Data model → SQL uses structured, tabular data; NoSQL uses flexible formats like JSON, key-value, graph, or column-family.\n",
        "\n",
        "- Schema → SQL has a fixed, predefined schema; NoSQL allows dynamic and flexible schemas.\n",
        "\n",
        "- Relationships → SQL supports joins and relations; NoSQL relies on denormalization or embedded documents.\n",
        "\n",
        "- Query language → SQL uses Structured Query Language (SQL); NoSQL uses varied query syntaxes based on the database.\n",
        "\n",
        "- Scalability → SQL typically scales vertically (stronger hardware); NoSQL scales horizontally (distributed architecture).\n",
        "\n",
        "- Consistency → SQL follows ACID properties (strong consistency); NoSQL often follows BASE (eventual consistency).\n",
        "\n",
        "- Transactions → SQL excels at complex multi-step transactions; NoSQL may support limited or eventual transactional models.\n",
        "\n",
        "- Performance → SQL is optimized for complex queries; NoSQL shines with large volumes of fast-changing data.\n",
        "\n",
        "- Examples → SQL: MySQL, PostgreSQL, Oracle; NoSQL: MongoDB, Cassandra, Redis.\n",
        "\n",
        "- Best for → SQL is best for structured, relational data; NoSQL suits flexible, large-scale or hierarchical data.\n",
        "\n",
        "Q2. What makes MongoDB a good choice for modern applications?\n",
        "\n",
        "  ->> MongoDB is a popular choice for modern applications because it’s designed to handle the speed, scale, and flexibility that today’s software demands\n",
        "\n",
        "___Key Strengths of MongoDB for Modern Development\n",
        "\n",
        "- Document-Oriented Model Stores data in flexible, JSON-like documents (BSON), which map naturally to objects in most programming languages. This makes development faster and more intuitive.\n",
        "\n",
        "- Schema Flexibility You don’t need to define a rigid schema up front. You can evolve your data model as your application grows—perfect for agile teams and startups.\n",
        "\n",
        "- Horizontal Scalability MongoDB supports sharding, allowing data to be distributed across multiple servers. This enables applications to scale out easily and handle massive workloads.\n",
        "\n",
        "- High Availability & Fault Tolerance Built-in replication and automatic failover ensure your app stays online even if a server goes down.\n",
        "\n",
        "- Real-Time Performance Optimized for fast reads and writes, MongoDB supports real-time analytics, live dashboards, and responsive user experiences.\n",
        "\n",
        "- Rich Query Capabilities Supports powerful queries, indexing, and aggregation pipelines—ideal for complex data processing without needing external tools.\n",
        "\n",
        "- Cloud-Native Integration Works seamlessly with cloud platforms, containers (Docker), orchestration tools (Kubernetes), and serverless environments.\n",
        "\n",
        "- Developer-Friendly Ecosystem Offers drivers for all major programming languages and integrates well with modern frameworks, making it easy to build and deploy apps quickly.\n",
        "\n",
        "Q3. Explain the concept of collections in MongoDB\n",
        "\n",
        "  ->>\n",
        "- A collection stores multiple documents, where each document is a JSON-like object (called BSON internally).\n",
        "\n",
        "- Collections do not require a fixed schema, so documents within the same collection can have different fields and data types.\n",
        "\n",
        "- Collections are created inside a database and can be created explicitly or automatically when you insert data.\n",
        "\n",
        "Q4.How does MongoDB ensure high availability using replication?\n",
        "\n",
        "  ->> MongoDB ensures high availability through a robust replication mechanism called replica sets, which provide redundancy, fault tolerance, and automatic failover\n",
        "\n",
        "Q5. What are the main benefits of MongoDB Atlas?\n",
        "\n",
        "  ->> MongoDB Atlas offers a powerful suite of features that make it a top choice for modern cloud-based applications.\n",
        "\n",
        "Q6.What is the role of indexes in MongoDB, and how do they improve performance?\n",
        "\n",
        "  ->> Indexes in MongoDB play a crucial role in boosting query performance and ensuring efficient data retrieval. Think of them like the index in a book — instead of flipping through every page, you jump straight to the info you need.\n",
        "\n",
        "->> How Indexes Work Internally\n",
        "\n",
        "- MongoDB uses B-tree data structures to store indexes.\n",
        "\n",
        "- These trees keep data sorted and balanced, allowing logarithmic-time lookups.\n",
        "\n",
        "- When a document is inserted, updated, or deleted, MongoDB updates all relevant indexes — which is why too many indexes can slow down writes\n",
        "\n",
        "Q7.Describe the stages of the MongoDB aggregation pipeline\n",
        "\n",
        "  ->> Common Aggregation Pipeline Stages\n",
        "- $match Filters documents based on specified criteria, similar to a SQL WHERE clause. Example: Select orders where status = \"shipped\".\n",
        "\n",
        "- $project Reshapes documents by including, excluding, or computing new fields. Example: Show only name and total, and hide _id.\n",
        "\n",
        "- $group Groups documents by a field and performs aggregation operations like sum, avg, max, etc. Example: Group sales by region and calculate total revenue.\n",
        "\n",
        "- $sort Sorts documents by one or more fields in ascending (1) or descending (-1) order. Example: Sort products by price descending.\n",
        "\n",
        "- $limit Restricts the number of documents passed to the next stage. Example: Return only the top 5 results.\n",
        "\n",
        "- $skip Skips a specified number of documents. Example: Skip the first 10 documents for pagination.\n",
        "\n",
        "- $unwind Deconstructs an array field into multiple documents, one per array element. Example: Break down a tags array into individual tag documents.\n",
        "\n",
        "Q8. What is sharding in MongoDB? How does it differ from replication?\n",
        "\n",
        "  ->> Sharding is MongoDB’s method of horizontal scaling. It splits large datasets into smaller, more manageable pieces called shards, which are distributed across multiple servers\n",
        "\n",
        "->> Diffrance\n",
        "\n",
        "- Purpose → Sharding enables horizontal scaling; replication ensures high availability and fault tolerance.\n",
        "\n",
        "- Data distribution → Sharding splits data across multiple servers; replication duplicates the same data across servers.\n",
        "\n",
        "- Write operations → Sharding distributes writes across shards; replication writes only to the primary node.\n",
        "\n",
        "- Read operations → Sharding routes reads based on shard key; replication allows reads from secondary nodes.\n",
        "\n",
        "- Failure handling → Sharding doesn’t handle failover; replication promotes a secondary to primary if the primary fails.\n",
        "\n",
        "Q9.What is PyMongo, and why is it used?\n",
        "\n",
        "  ->> PyMongo is the official Python driver for MongoDB, designed to let Python applications interact seamlessly with MongoDB databases\n",
        "\n",
        "->>Why\n",
        "\n",
        "- Simplicity: Easy to learn and use, especially for Python developers.\n",
        "\n",
        " Performance: Efficient for synchronous operations and optimized for production use.\n",
        "\n",
        "- Compatibility: Works with all major MongoDB versions and integrates well with MongoDB Atlas.\n",
        "\n",
        "- Control: Offers low-level access to MongoDB features, unlike ORMs that abstract away database logic.\n",
        "\n",
        "Q10.What are the ACID properties in the context of MongoDB transactions?\n",
        "\n",
        "  ->> In MongoDB, ACID properties ensure that transactions are reliable, consistent, and resilient—even in distributed environments\n",
        "\n",
        "Q11. What is the purpose of MongoDB’s explain() function\n",
        "\n",
        "  ->> The explain() function in MongoDB is used to analyze and understand how a query is executed. It provides detailed insights into the query planner’s decisions, execution statistics, and performance metrics—making it an essential tool for debugging and optimizing queries.\n",
        "\n",
        "Q12.How does MongoDB handle schema validation?\n",
        "\n",
        "  ->> MongoDB handles schema validation through a flexible yet powerful mechanism that lets you enforce rules on the structure and content of documents within a collection.\n",
        "\n",
        "Q13. What is the difference between a primary and a secondary node in a replica set?\n",
        "\n",
        "  ->>\n",
        "- Role → Primary handles writes; secondary replicates data from the primary.\n",
        "\n",
        "- Write operations → Only the primary accepts writes; secondaries do not.\n",
        "\n",
        "- Read operations → Primary serves reads by default; secondaries can serve reads if configured.\n",
        "\n",
        " Data sync → Primary logs changes in the oplog; secondaries apply those changes asynchronously.\n",
        "\n",
        "- Failover → If the primary fails, a secondary is elected to become the new primary.\n",
        "\n",
        "- Election participation → Both can participate in elections; only one node is primary at a time.\n",
        "\n",
        "- Data consistency → Primary is the source of truth; secondaries mirror its state.\n",
        "\n",
        "- Availability → Primary is critical for writes; secondaries ensure redundancy and read scalability.\n",
        "\n",
        "- Recovery → A failed secondary rejoins and resyncs; a failed primary triggers an election.\n",
        "\n",
        "Q14. What security mechanisms does MongoDB provide for data protection?\n",
        "\n",
        "  ->> MongoDB offers a robust set of security mechanisms to protect data across various deployment environments.\n",
        "\n",
        "Q15. Explain the concept of embedded documents and when they should be used\n",
        "\n",
        "  ->> 📦 What Are Embedded Documents?\n",
        "- An embedded document is a field whose value is itself a document.\n",
        "\n",
        "- This structure mimics real-world relationships — for example, a user document might contain an embedded address document.\n",
        "\n",
        "✅ When to Use Embedded Documents\n",
        "- One-to-One or One-to-Few Relationships If the related data is tightly coupled and doesn’t grow unbounded — like a user’s profile or a product’s manufacturer details.\n",
        "\n",
        "- Frequent Joint Access When you often retrieve the parent and child data together, embedding reduces the need for multiple queries.\n",
        "\n",
        "- Atomic Updates Embedded documents allow updates to both parent and child data in a single atomic operation.\n",
        "\n",
        "- Rare Updates to Subdocuments If the embedded data doesn’t change often, embedding avoids the overhead of syncing separate collections.\n",
        "\n",
        "Q16. What is the purpose of MongoDB’s $lookup stage in aggregation?\n",
        "\n",
        "  ->> The $lookup stage in MongoDB’s aggregation pipeline is used to perform a left outer join between documents in different collections. This allows you to combine related data from multiple sources—similar to SQL joins, but within MongoDB’s flexible document model\n",
        "\n",
        "Q17.What are some common use cases for MongoDB?\n",
        "\n",
        "  ->> 🛍️ E-Commerce Platforms\n",
        "- Product catalogs can vary widely in structure, and MongoDB’s flexible schema handles that gracefully.\n",
        "\n",
        "- Allows quick updates to product listings, customer profiles, and shopping carts.\n",
        "\n",
        "📱 Mobile & Social Apps\n",
        "- Stores user-generated content, profiles, and relationships efficiently.\n",
        "\n",
        "- Supports real-time notifications, messaging, and offline-first features using MongoDB Atlas with Realm.\n",
        "\n",
        "📊 Real-Time Analytics & Dashboards\n",
        "- Processes large volumes of data quickly with the aggregation pipeline.\n",
        "\n",
        "- Often used for monitoring systems, business intelligence tools, and interactive dashboards.\n",
        "\n",
        "Q18.What are the advantages of using MongoDB for horizontal scaling?\n",
        "\n",
        "  ->> Key Advantages of Horizontal Scaling in MongoDB\n",
        "1. Infinite Scalability\n",
        "- You can keep adding more shards (servers) as your data grows.\n",
        "\n",
        "- No need to upgrade to expensive high-end machines—just scale out with commodity hardware.\n",
        "\n",
        "2. Improved Performance\n",
        "- Distributes read and write operations across multiple shards.\n",
        "\n",
        "- Reduces bottlenecks and improves throughput for high-traffic applications.\n",
        "\n",
        "3. High Availability\n",
        "- Each shard is typically part of a replica set, ensuring redundancy.\n",
        "\n",
        "- If one node fails, others can take over without downtime.\n",
        "\n",
        "4. Cost Efficiency\n",
        "- More predictable costs compared to vertical scaling, which often requires pricey hardware upgrades.\n",
        "\n",
        "Q19.How do MongoDB transactions differ from SQL transactions?\n",
        "\n",
        "  ->>\n",
        "🧮 Core Differences Between MongoDB and SQL Transactions\n",
        "1. Data Model\n",
        "- SQL: Relational model with normalized tables and strict schemas.\n",
        "\n",
        "- MongoDB: Document-oriented model with flexible, schema-less documents.\n",
        "\n",
        "2. ACID Compliance\n",
        "- SQL: Strong ACID guarantees are built-in and optimized for multi-row, multi-table operations.\n",
        "\n",
        "- MongoDB: Supports ACID transactions since version 4.0 (single replica set) and distributed transactions since 4.2 (sharded clusters)2.\n",
        "\n",
        "3. Transaction Scope\n",
        "- SQL: Transactions commonly span multiple tables and rows.\n",
        "\n",
        "- MongoDB: Initially focused on single-document atomicity; now supports multi-document and cross-collection transactions, but with more limitations (e.g., can't create collections across shards in a transaction).\n",
        "\n",
        "4. Performance\n",
        "- SQL: Optimized for complex transactional workloads.\n",
        "\n",
        "- MongoDB: Transactions can be slower and more resource-intensive, especially in distributed setups.\n",
        "\n",
        "5. Concurrency & Isolation\n",
        "- SQL: Uses isolation levels (e.g., READ COMMITTED, SERIALIZABLE) to manage concurrency.\n",
        "\n",
        "- MongoDB: Uses snapshot isolation for transactions, but with some restrictions on operations like $graphLookup in sharded collections.\n",
        "\n",
        "6. Implementation Complexity\n",
        "- SQL: Mature tooling and predictable behavior.\n",
        "\n",
        "- MongoDB: Requires careful session management and understanding of replica sets or sharded clusters for distributed transactions2.\n",
        "\n",
        "Q20.. What are the main differences between capped collections and regular collections?\n",
        "\n",
        "  - Capped collections: fixed size, overwrite oldest data when full.\n",
        "\n",
        "  - Regular collections: unlimited size, don’t overwrite automatically.\n",
        "\n",
        "Q21. What is the purpose of the $match stage in MongoDB’s aggregation pipeline?\n",
        "\n",
        "  ->> 🎯 Purpose of $match in Aggregation\n",
        "- Filters documents based on specified conditions, similar to a find() query.\n",
        "\n",
        "- Ensures that only matching documents proceed to the next stage of the pipeline.\n",
        "\n",
        "- Helps optimize performance by reducing the number of documents processed downstream\n",
        "\n",
        "Q22.How can you secure access to a MongoDB database?\n",
        "\n",
        "  ->> Securing access to a MongoDB database is essential to protect sensitive data and prevent unauthorized usage. MongoDB offers a robust set of features and best practices to help you lock things down effectively\n",
        "\n",
        "Q23.What is MongoDB’s WiredTiger storage engine, and why is it important?\n",
        "\n",
        "  ->> WiredTiger is a high-performance, concurrent, and durable storage engine designed to handle large-scale data operations efficiently. It replaced the older MMAPv1 engine and became the default starting with MongoDB 3.2.\n",
        "\n",
        "->> Why\n",
        "\n",
        "- Performance Boost: WiredTiger’s architecture supports high-speed reads and writes, especially in write-heavy applications.\n",
        "\n",
        "- Scalability: Efficient memory and disk usage make it suitable for large datasets and high-traffic environments.\n",
        "\n",
        "- Reliability: Its journaling and checkpointing mechanisms help ensure data integrity even in the event of system failures.\n",
        "\n",
        "- Storage Efficiency: Compression features reduce storage costs and improve I/O performance."
      ],
      "metadata": {
        "id": "1Q4QdbBg5dtg"
      }
    },
    {
      "cell_type": "code",
      "source": [
        "!pip install pymongo\n"
      ],
      "metadata": {
        "colab": {
          "base_uri": "https://localhost:8080/"
        },
        "id": "Jb8xum7lbHmM",
        "outputId": "8ae66a70-c8e4-408a-e800-3be3c00053de"
      },
      "execution_count": null,
      "outputs": [
        {
          "output_type": "stream",
          "name": "stdout",
          "text": [
            "Collecting pymongo\n",
            "  Downloading pymongo-4.14.1-cp312-cp312-manylinux_2_17_x86_64.manylinux2014_x86_64.whl.metadata (22 kB)\n",
            "Collecting dnspython<3.0.0,>=1.16.0 (from pymongo)\n",
            "  Downloading dnspython-2.7.0-py3-none-any.whl.metadata (5.8 kB)\n",
            "Downloading pymongo-4.14.1-cp312-cp312-manylinux_2_17_x86_64.manylinux2014_x86_64.whl (1.7 MB)\n",
            "\u001b[2K   \u001b[90m━━━━━━━━━━━━━━━━━━━━━━━━━━━━━━━━━━━━━━━━\u001b[0m \u001b[32m1.7/1.7 MB\u001b[0m \u001b[31m31.2 MB/s\u001b[0m eta \u001b[36m0:00:00\u001b[0m\n",
            "\u001b[?25hDownloading dnspython-2.7.0-py3-none-any.whl (313 kB)\n",
            "\u001b[2K   \u001b[90m━━━━━━━━━━━━━━━━━━━━━━━━━━━━━━━━━━━━━━━━\u001b[0m \u001b[32m313.6/313.6 kB\u001b[0m \u001b[31m20.7 MB/s\u001b[0m eta \u001b[36m0:00:00\u001b[0m\n",
            "\u001b[?25hInstalling collected packages: dnspython, pymongo\n",
            "Successfully installed dnspython-2.7.0 pymongo-4.14.1\n"
          ]
        }
      ]
    },
    {
      "cell_type": "code",
      "source": [
        "df = pd.read_csv(\"superstore.csv\", encoding=\"ISO-8859-1\")\n",
        "df.shape"
      ],
      "metadata": {
        "colab": {
          "base_uri": "https://localhost:8080/"
        },
        "id": "nd2GzALteJdr",
        "outputId": "c8d33925-1c8c-4d19-975b-6b341b9b78fd"
      },
      "execution_count": 17,
      "outputs": [
        {
          "output_type": "execute_result",
          "data": {
            "text/plain": [
              "(9994, 21)"
            ]
          },
          "metadata": {},
          "execution_count": 17
        }
      ]
    },
    {
      "cell_type": "code",
      "source": [
        "df.dtypes"
      ],
      "metadata": {
        "colab": {
          "base_uri": "https://localhost:8080/",
          "height": 742
        },
        "id": "uSM8Ou2xfMvW",
        "outputId": "6d487a0e-cf41-4c59-bf27-2c71b95f7321"
      },
      "execution_count": 12,
      "outputs": [
        {
          "output_type": "execute_result",
          "data": {
            "text/plain": [
              "Row ID             int64\n",
              "Order ID          object\n",
              "Order Date        object\n",
              "Ship Date         object\n",
              "Ship Mode         object\n",
              "Customer ID       object\n",
              "Customer Name     object\n",
              "Segment           object\n",
              "Country           object\n",
              "City              object\n",
              "State             object\n",
              "Postal Code        int64\n",
              "Region            object\n",
              "Product ID        object\n",
              "Category          object\n",
              "Sub-Category      object\n",
              "Product Name      object\n",
              "Sales            float64\n",
              "Quantity           int64\n",
              "Discount         float64\n",
              "Profit           float64\n",
              "dtype: object"
            ],
            "text/html": [
              "<div>\n",
              "<style scoped>\n",
              "    .dataframe tbody tr th:only-of-type {\n",
              "        vertical-align: middle;\n",
              "    }\n",
              "\n",
              "    .dataframe tbody tr th {\n",
              "        vertical-align: top;\n",
              "    }\n",
              "\n",
              "    .dataframe thead th {\n",
              "        text-align: right;\n",
              "    }\n",
              "</style>\n",
              "<table border=\"1\" class=\"dataframe\">\n",
              "  <thead>\n",
              "    <tr style=\"text-align: right;\">\n",
              "      <th></th>\n",
              "      <th>0</th>\n",
              "    </tr>\n",
              "  </thead>\n",
              "  <tbody>\n",
              "    <tr>\n",
              "      <th>Row ID</th>\n",
              "      <td>int64</td>\n",
              "    </tr>\n",
              "    <tr>\n",
              "      <th>Order ID</th>\n",
              "      <td>object</td>\n",
              "    </tr>\n",
              "    <tr>\n",
              "      <th>Order Date</th>\n",
              "      <td>object</td>\n",
              "    </tr>\n",
              "    <tr>\n",
              "      <th>Ship Date</th>\n",
              "      <td>object</td>\n",
              "    </tr>\n",
              "    <tr>\n",
              "      <th>Ship Mode</th>\n",
              "      <td>object</td>\n",
              "    </tr>\n",
              "    <tr>\n",
              "      <th>Customer ID</th>\n",
              "      <td>object</td>\n",
              "    </tr>\n",
              "    <tr>\n",
              "      <th>Customer Name</th>\n",
              "      <td>object</td>\n",
              "    </tr>\n",
              "    <tr>\n",
              "      <th>Segment</th>\n",
              "      <td>object</td>\n",
              "    </tr>\n",
              "    <tr>\n",
              "      <th>Country</th>\n",
              "      <td>object</td>\n",
              "    </tr>\n",
              "    <tr>\n",
              "      <th>City</th>\n",
              "      <td>object</td>\n",
              "    </tr>\n",
              "    <tr>\n",
              "      <th>State</th>\n",
              "      <td>object</td>\n",
              "    </tr>\n",
              "    <tr>\n",
              "      <th>Postal Code</th>\n",
              "      <td>int64</td>\n",
              "    </tr>\n",
              "    <tr>\n",
              "      <th>Region</th>\n",
              "      <td>object</td>\n",
              "    </tr>\n",
              "    <tr>\n",
              "      <th>Product ID</th>\n",
              "      <td>object</td>\n",
              "    </tr>\n",
              "    <tr>\n",
              "      <th>Category</th>\n",
              "      <td>object</td>\n",
              "    </tr>\n",
              "    <tr>\n",
              "      <th>Sub-Category</th>\n",
              "      <td>object</td>\n",
              "    </tr>\n",
              "    <tr>\n",
              "      <th>Product Name</th>\n",
              "      <td>object</td>\n",
              "    </tr>\n",
              "    <tr>\n",
              "      <th>Sales</th>\n",
              "      <td>float64</td>\n",
              "    </tr>\n",
              "    <tr>\n",
              "      <th>Quantity</th>\n",
              "      <td>int64</td>\n",
              "    </tr>\n",
              "    <tr>\n",
              "      <th>Discount</th>\n",
              "      <td>float64</td>\n",
              "    </tr>\n",
              "    <tr>\n",
              "      <th>Profit</th>\n",
              "      <td>float64</td>\n",
              "    </tr>\n",
              "  </tbody>\n",
              "</table>\n",
              "</div><br><label><b>dtype:</b> object</label>"
            ]
          },
          "metadata": {},
          "execution_count": 12
        }
      ]
    },
    {
      "cell_type": "code",
      "source": [
        "#1. Write a Python script to load the Superstore dataset from a CSV file into MongoDB?\n",
        "\n",
        "import pandas as pd\n",
        "from pymongo import MongoClient\n",
        "\n",
        "# 1. Load Superstore CSV file using pandas\n",
        "df = pd.read_csv(\"superstore.csv\", encoding=\"ISO-8859-1\")\n",
        "\n",
        "# 2. Connect to MongoDB (local server)\n",
        "client = MongoClient(\"mongodb://localhost:27017/\")\n",
        "\n",
        "# 3. Create database and collection\n",
        "db = client[\"SuperstoreDB\"]\n",
        "orders_collection = db[\"Orders\"]\n",
        "\n",
        "# 4. Convert dataframe to dictionary and insert into MongoDB\n",
        "data = df.to_dict(orient=\"records\")\n",
        "orders_collection.insert_many(data)\n",
        "\n"
      ],
      "metadata": {
        "id": "OXkZatKaGa1j"
      },
      "execution_count": null,
      "outputs": []
    },
    {
      "cell_type": "code",
      "source": [
        "#2. Retrieve and print all documents from the Orders collection\n",
        "\n",
        "\n",
        "print(\"1. All Documents (first 5):\")\n",
        "print(df.head(), \"\\n\")\n"
      ],
      "metadata": {
        "id": "jjGm-47zGas_",
        "colab": {
          "base_uri": "https://localhost:8080/"
        },
        "outputId": "6e6af72d-acc1-4d26-cb0d-2ef0dd697d2c"
      },
      "execution_count": 25,
      "outputs": [
        {
          "output_type": "stream",
          "name": "stdout",
          "text": [
            "1. All Documents (first 5):\n",
            "   Row ID        Order ID  Order Date   Ship Date       Ship Mode Customer ID  \\\n",
            "0       1  CA-2016-152156   11/8/2016  11/11/2016    Second Class    CG-12520   \n",
            "1       2  CA-2016-152156   11/8/2016  11/11/2016    Second Class    CG-12520   \n",
            "2       3  CA-2016-138688   6/12/2016   6/16/2016    Second Class    DV-13045   \n",
            "3       4  US-2015-108966  10/11/2015  10/18/2015  Standard Class    SO-20335   \n",
            "4       5  US-2015-108966  10/11/2015  10/18/2015  Standard Class    SO-20335   \n",
            "\n",
            "     Customer Name    Segment        Country             City  ...  \\\n",
            "0      Claire Gute   Consumer  United States        Henderson  ...   \n",
            "1      Claire Gute   Consumer  United States        Henderson  ...   \n",
            "2  Darrin Van Huff  Corporate  United States      Los Angeles  ...   \n",
            "3   Sean O'Donnell   Consumer  United States  Fort Lauderdale  ...   \n",
            "4   Sean O'Donnell   Consumer  United States  Fort Lauderdale  ...   \n",
            "\n",
            "  Postal Code  Region       Product ID         Category Sub-Category  \\\n",
            "0       42420   South  FUR-BO-10001798        Furniture    Bookcases   \n",
            "1       42420   South  FUR-CH-10000454        Furniture       Chairs   \n",
            "2       90036    West  OFF-LA-10000240  Office Supplies       Labels   \n",
            "3       33311   South  FUR-TA-10000577        Furniture       Tables   \n",
            "4       33311   South  OFF-ST-10000760  Office Supplies      Storage   \n",
            "\n",
            "                                        Product Name     Sales  Quantity  \\\n",
            "0                  Bush Somerset Collection Bookcase  261.9600         2   \n",
            "1  Hon Deluxe Fabric Upholstered Stacking Chairs,...  731.9400         3   \n",
            "2  Self-Adhesive Address Labels for Typewriters b...   14.6200         2   \n",
            "3      Bretford CR4500 Series Slim Rectangular Table  957.5775         5   \n",
            "4                     Eldon Fold 'N Roll Cart System   22.3680         2   \n",
            "\n",
            "   Discount    Profit  \n",
            "0      0.00   41.9136  \n",
            "1      0.00  219.5820  \n",
            "2      0.00    6.8714  \n",
            "3      0.45 -383.0310  \n",
            "4      0.20    2.5164  \n",
            "\n",
            "[5 rows x 21 columns] \n",
            "\n"
          ]
        }
      ]
    },
    {
      "cell_type": "code",
      "source": [
        "#3. Count and display the total number of documents in the Orders collection\n",
        "\n",
        "print(\"2. Total number of documents (orders):\")\n",
        "print(len(df), \"\\n\")"
      ],
      "metadata": {
        "id": "3JSOfzhYGalG",
        "colab": {
          "base_uri": "https://localhost:8080/"
        },
        "outputId": "f96ed9fe-2e6e-41c7-abb4-940788fd39ed"
      },
      "execution_count": 24,
      "outputs": [
        {
          "output_type": "stream",
          "name": "stdout",
          "text": [
            "2. Total number of documents (orders):\n",
            "9994 \n",
            "\n"
          ]
        }
      ]
    },
    {
      "cell_type": "code",
      "source": [
        "#4. Write a query to fetch all orders from the \"West\" region\n",
        "\n",
        "print(\"3. Orders from 'West' region (sample):\")\n",
        "print(df[df[\"Region\"] == \"West\"].head(), \"\\n\")"
      ],
      "metadata": {
        "id": "NyCDFfH0GacV",
        "colab": {
          "base_uri": "https://localhost:8080/"
        },
        "outputId": "2b5d0c73-996a-443c-f5bf-3a75ead8dcb6"
      },
      "execution_count": 23,
      "outputs": [
        {
          "output_type": "stream",
          "name": "stdout",
          "text": [
            "3. Orders from 'West' region (sample):\n",
            "   Row ID        Order ID Order Date  Ship Date       Ship Mode Customer ID  \\\n",
            "2       3  CA-2016-138688  6/12/2016  6/16/2016    Second Class    DV-13045   \n",
            "5       6  CA-2014-115812   6/9/2014  6/14/2014  Standard Class    BH-11710   \n",
            "6       7  CA-2014-115812   6/9/2014  6/14/2014  Standard Class    BH-11710   \n",
            "7       8  CA-2014-115812   6/9/2014  6/14/2014  Standard Class    BH-11710   \n",
            "8       9  CA-2014-115812   6/9/2014  6/14/2014  Standard Class    BH-11710   \n",
            "\n",
            "     Customer Name    Segment        Country         City  ... Postal Code  \\\n",
            "2  Darrin Van Huff  Corporate  United States  Los Angeles  ...       90036   \n",
            "5  Brosina Hoffman   Consumer  United States  Los Angeles  ...       90032   \n",
            "6  Brosina Hoffman   Consumer  United States  Los Angeles  ...       90032   \n",
            "7  Brosina Hoffman   Consumer  United States  Los Angeles  ...       90032   \n",
            "8  Brosina Hoffman   Consumer  United States  Los Angeles  ...       90032   \n",
            "\n",
            "   Region       Product ID         Category Sub-Category  \\\n",
            "2    West  OFF-LA-10000240  Office Supplies       Labels   \n",
            "5    West  FUR-FU-10001487        Furniture  Furnishings   \n",
            "6    West  OFF-AR-10002833  Office Supplies          Art   \n",
            "7    West  TEC-PH-10002275       Technology       Phones   \n",
            "8    West  OFF-BI-10003910  Office Supplies      Binders   \n",
            "\n",
            "                                        Product Name    Sales  Quantity  \\\n",
            "2  Self-Adhesive Address Labels for Typewriters b...   14.620         2   \n",
            "5  Eldon Expressions Wood and Plastic Desk Access...   48.860         7   \n",
            "6                                         Newell 322    7.280         4   \n",
            "7                     Mitel 5320 IP Phone VoIP phone  907.152         6   \n",
            "8  DXL Angle-View Binders with Locking Rings by S...   18.504         3   \n",
            "\n",
            "   Discount   Profit  \n",
            "2       0.0   6.8714  \n",
            "5       0.0  14.1694  \n",
            "6       0.0   1.9656  \n",
            "7       0.2  90.7152  \n",
            "8       0.2   5.7825  \n",
            "\n",
            "[5 rows x 21 columns] \n",
            "\n"
          ]
        }
      ]
    },
    {
      "cell_type": "code",
      "source": [
        "#5. Write a query to find orders where Sales is greater than 500\n",
        "\n",
        "print(\"4. Orders with Sales > 500 (sample):\")\n",
        "print(df[df[\"Sales\"] > 500].head(), \"\\n\")"
      ],
      "metadata": {
        "id": "-Fwm4b2FGaRa",
        "colab": {
          "base_uri": "https://localhost:8080/"
        },
        "outputId": "10597629-67ed-46d6-e995-3c1ffbd3c9e5"
      },
      "execution_count": 26,
      "outputs": [
        {
          "output_type": "stream",
          "name": "stdout",
          "text": [
            "4. Orders with Sales > 500 (sample):\n",
            "    Row ID        Order ID  Order Date   Ship Date       Ship Mode  \\\n",
            "1        2  CA-2016-152156   11/8/2016  11/11/2016    Second Class   \n",
            "3        4  US-2015-108966  10/11/2015  10/18/2015  Standard Class   \n",
            "7        8  CA-2014-115812    6/9/2014   6/14/2014  Standard Class   \n",
            "10      11  CA-2014-115812    6/9/2014   6/14/2014  Standard Class   \n",
            "11      12  CA-2014-115812    6/9/2014   6/14/2014  Standard Class   \n",
            "\n",
            "   Customer ID    Customer Name   Segment        Country             City  \\\n",
            "1     CG-12520      Claire Gute  Consumer  United States        Henderson   \n",
            "3     SO-20335   Sean O'Donnell  Consumer  United States  Fort Lauderdale   \n",
            "7     BH-11710  Brosina Hoffman  Consumer  United States      Los Angeles   \n",
            "10    BH-11710  Brosina Hoffman  Consumer  United States      Los Angeles   \n",
            "11    BH-11710  Brosina Hoffman  Consumer  United States      Los Angeles   \n",
            "\n",
            "    ... Postal Code  Region       Product ID    Category Sub-Category  \\\n",
            "1   ...       42420   South  FUR-CH-10000454   Furniture       Chairs   \n",
            "3   ...       33311   South  FUR-TA-10000577   Furniture       Tables   \n",
            "7   ...       90032    West  TEC-PH-10002275  Technology       Phones   \n",
            "10  ...       90032    West  FUR-TA-10001539   Furniture       Tables   \n",
            "11  ...       90032    West  TEC-PH-10002033  Technology       Phones   \n",
            "\n",
            "                                         Product Name      Sales  Quantity  \\\n",
            "1   Hon Deluxe Fabric Upholstered Stacking Chairs,...   731.9400         3   \n",
            "3       Bretford CR4500 Series Slim Rectangular Table   957.5775         5   \n",
            "7                      Mitel 5320 IP Phone VoIP phone   907.1520         6   \n",
            "10           Chromcraft Rectangular Conference Tables  1706.1840         9   \n",
            "11      Konftel 250 Conference phone - Charcoal black   911.4240         4   \n",
            "\n",
            "    Discount    Profit  \n",
            "1       0.00  219.5820  \n",
            "3       0.45 -383.0310  \n",
            "7       0.20   90.7152  \n",
            "10      0.20   85.3092  \n",
            "11      0.20   68.3568  \n",
            "\n",
            "[5 rows x 21 columns] \n",
            "\n"
          ]
        }
      ]
    },
    {
      "cell_type": "code",
      "source": [
        "#6.Fetch the top 3 orders with the highest Profit\n",
        "\n",
        "print(\"5. Top 3 orders with highest Profit:\")\n",
        "print(df.nlargest(3, \"Profit\"), \"\\n\")"
      ],
      "metadata": {
        "id": "f0CIztp_GZ9c",
        "colab": {
          "base_uri": "https://localhost:8080/"
        },
        "outputId": "fa5a3342-66ef-484f-970f-7df8316bfa3a"
      },
      "execution_count": 27,
      "outputs": [
        {
          "output_type": "stream",
          "name": "stdout",
          "text": [
            "5. Top 3 orders with highest Profit:\n",
            "      Row ID        Order ID  Order Date   Ship Date       Ship Mode  \\\n",
            "6826    6827  CA-2016-118689   10/2/2016   10/9/2016  Standard Class   \n",
            "8153    8154  CA-2017-140151   3/23/2017   3/25/2017     First Class   \n",
            "4190    4191  CA-2017-166709  11/17/2017  11/22/2017  Standard Class   \n",
            "\n",
            "     Customer ID Customer Name    Segment        Country       City  ...  \\\n",
            "6826    TC-20980  Tamara Chand  Corporate  United States  Lafayette  ...   \n",
            "8153    RB-19360  Raymond Buch   Consumer  United States    Seattle  ...   \n",
            "4190    HL-15040  Hunter Lopez   Consumer  United States     Newark  ...   \n",
            "\n",
            "     Postal Code   Region       Product ID    Category Sub-Category  \\\n",
            "6826       47905  Central  TEC-CO-10004722  Technology      Copiers   \n",
            "8153       98115     West  TEC-CO-10004722  Technology      Copiers   \n",
            "4190       19711     East  TEC-CO-10004722  Technology      Copiers   \n",
            "\n",
            "                               Product Name     Sales  Quantity  Discount  \\\n",
            "6826  Canon imageCLASS 2200 Advanced Copier  17499.95         5       0.0   \n",
            "8153  Canon imageCLASS 2200 Advanced Copier  13999.96         4       0.0   \n",
            "4190  Canon imageCLASS 2200 Advanced Copier  10499.97         3       0.0   \n",
            "\n",
            "         Profit  \n",
            "6826  8399.9760  \n",
            "8153  6719.9808  \n",
            "4190  5039.9856  \n",
            "\n",
            "[3 rows x 21 columns] \n",
            "\n"
          ]
        }
      ]
    },
    {
      "cell_type": "code",
      "source": [
        "#7. Update all orders with Ship Mode as \"First Class\" to \"Premium Class\n",
        "\n",
        "df_updated = df.copy()\n",
        "df_updated.loc[df_updated[\"Ship Mode\"] == \"First Class\", \"Ship Mode\"] = \"Premium Class\"\n",
        "print(\"6. Updated Ship Mode (sample):\")\n",
        "print(df_updated.head(), \"\\n\")"
      ],
      "metadata": {
        "id": "K9SIb8aGZnVj",
        "colab": {
          "base_uri": "https://localhost:8080/"
        },
        "outputId": "0727a84b-0bdf-4a87-d8ec-bed05ab827eb"
      },
      "execution_count": 28,
      "outputs": [
        {
          "output_type": "stream",
          "name": "stdout",
          "text": [
            "6. Updated Ship Mode (sample):\n",
            "   Row ID        Order ID  Order Date   Ship Date       Ship Mode Customer ID  \\\n",
            "0       1  CA-2016-152156   11/8/2016  11/11/2016    Second Class    CG-12520   \n",
            "1       2  CA-2016-152156   11/8/2016  11/11/2016    Second Class    CG-12520   \n",
            "2       3  CA-2016-138688   6/12/2016   6/16/2016    Second Class    DV-13045   \n",
            "3       4  US-2015-108966  10/11/2015  10/18/2015  Standard Class    SO-20335   \n",
            "4       5  US-2015-108966  10/11/2015  10/18/2015  Standard Class    SO-20335   \n",
            "\n",
            "     Customer Name    Segment        Country             City  ...  \\\n",
            "0      Claire Gute   Consumer  United States        Henderson  ...   \n",
            "1      Claire Gute   Consumer  United States        Henderson  ...   \n",
            "2  Darrin Van Huff  Corporate  United States      Los Angeles  ...   \n",
            "3   Sean O'Donnell   Consumer  United States  Fort Lauderdale  ...   \n",
            "4   Sean O'Donnell   Consumer  United States  Fort Lauderdale  ...   \n",
            "\n",
            "  Postal Code  Region       Product ID         Category Sub-Category  \\\n",
            "0       42420   South  FUR-BO-10001798        Furniture    Bookcases   \n",
            "1       42420   South  FUR-CH-10000454        Furniture       Chairs   \n",
            "2       90036    West  OFF-LA-10000240  Office Supplies       Labels   \n",
            "3       33311   South  FUR-TA-10000577        Furniture       Tables   \n",
            "4       33311   South  OFF-ST-10000760  Office Supplies      Storage   \n",
            "\n",
            "                                        Product Name     Sales  Quantity  \\\n",
            "0                  Bush Somerset Collection Bookcase  261.9600         2   \n",
            "1  Hon Deluxe Fabric Upholstered Stacking Chairs,...  731.9400         3   \n",
            "2  Self-Adhesive Address Labels for Typewriters b...   14.6200         2   \n",
            "3      Bretford CR4500 Series Slim Rectangular Table  957.5775         5   \n",
            "4                     Eldon Fold 'N Roll Cart System   22.3680         2   \n",
            "\n",
            "   Discount    Profit  \n",
            "0      0.00   41.9136  \n",
            "1      0.00  219.5820  \n",
            "2      0.00    6.8714  \n",
            "3      0.45 -383.0310  \n",
            "4      0.20    2.5164  \n",
            "\n",
            "[5 rows x 21 columns] \n",
            "\n"
          ]
        }
      ]
    },
    {
      "cell_type": "code",
      "source": [
        "#8. Delete all orders where Sales is less than 50\n",
        "\n",
        "df_filtered = df[df[\"Sales\"] >= 50]\n",
        "print(\"7. Orders after deleting Sales < 50 (sample):\")\n",
        "print(df_filtered.head(), \"\\n\")\n"
      ],
      "metadata": {
        "id": "3gR8P-slZnNO",
        "colab": {
          "base_uri": "https://localhost:8080/"
        },
        "outputId": "bd214d00-6e62-4743-fe2e-acf1c574578d"
      },
      "execution_count": 29,
      "outputs": [
        {
          "output_type": "stream",
          "name": "stdout",
          "text": [
            "7. Orders after deleting Sales < 50 (sample):\n",
            "   Row ID        Order ID  Order Date   Ship Date       Ship Mode Customer ID  \\\n",
            "0       1  CA-2016-152156   11/8/2016  11/11/2016    Second Class    CG-12520   \n",
            "1       2  CA-2016-152156   11/8/2016  11/11/2016    Second Class    CG-12520   \n",
            "3       4  US-2015-108966  10/11/2015  10/18/2015  Standard Class    SO-20335   \n",
            "7       8  CA-2014-115812    6/9/2014   6/14/2014  Standard Class    BH-11710   \n",
            "9      10  CA-2014-115812    6/9/2014   6/14/2014  Standard Class    BH-11710   \n",
            "\n",
            "     Customer Name   Segment        Country             City  ... Postal Code  \\\n",
            "0      Claire Gute  Consumer  United States        Henderson  ...       42420   \n",
            "1      Claire Gute  Consumer  United States        Henderson  ...       42420   \n",
            "3   Sean O'Donnell  Consumer  United States  Fort Lauderdale  ...       33311   \n",
            "7  Brosina Hoffman  Consumer  United States      Los Angeles  ...       90032   \n",
            "9  Brosina Hoffman  Consumer  United States      Los Angeles  ...       90032   \n",
            "\n",
            "   Region       Product ID         Category Sub-Category  \\\n",
            "0   South  FUR-BO-10001798        Furniture    Bookcases   \n",
            "1   South  FUR-CH-10000454        Furniture       Chairs   \n",
            "3   South  FUR-TA-10000577        Furniture       Tables   \n",
            "7    West  TEC-PH-10002275       Technology       Phones   \n",
            "9    West  OFF-AP-10002892  Office Supplies   Appliances   \n",
            "\n",
            "                                        Product Name     Sales  Quantity  \\\n",
            "0                  Bush Somerset Collection Bookcase  261.9600         2   \n",
            "1  Hon Deluxe Fabric Upholstered Stacking Chairs,...  731.9400         3   \n",
            "3      Bretford CR4500 Series Slim Rectangular Table  957.5775         5   \n",
            "7                     Mitel 5320 IP Phone VoIP phone  907.1520         6   \n",
            "9                   Belkin F5C206VTEL 6 Outlet Surge  114.9000         5   \n",
            "\n",
            "   Discount    Profit  \n",
            "0      0.00   41.9136  \n",
            "1      0.00  219.5820  \n",
            "3      0.45 -383.0310  \n",
            "7      0.20   90.7152  \n",
            "9      0.00   34.4700  \n",
            "\n",
            "[5 rows x 21 columns] \n",
            "\n"
          ]
        }
      ]
    },
    {
      "cell_type": "code",
      "source": [
        "#9.Use aggregation to group orders by Region and calculate total sales per region\n",
        "\n",
        "print(\"8. Total Sales by Region:\")\n",
        "print(df.groupby(\"Region\")[\"Sales\"].sum().reset_index(), \"\\n\")\n"
      ],
      "metadata": {
        "id": "Lnj7f8x8ZnC0",
        "colab": {
          "base_uri": "https://localhost:8080/"
        },
        "outputId": "1ba50a9d-6787-4b48-e563-cf5bacc5ce43"
      },
      "execution_count": 30,
      "outputs": [
        {
          "output_type": "stream",
          "name": "stdout",
          "text": [
            "8. Total Sales by Region:\n",
            "    Region        Sales\n",
            "0  Central  501239.8908\n",
            "1     East  678781.2400\n",
            "2    South  391721.9050\n",
            "3     West  725457.8245 \n",
            "\n"
          ]
        }
      ]
    },
    {
      "cell_type": "code",
      "source": [
        "#10. Fetch all distinct values for Ship Mode from the collection\n",
        "\n",
        "print(\"9. Distinct Ship Modes:\")\n",
        "print(df[\"Ship Mode\"].unique(), \"\\n\")\n"
      ],
      "metadata": {
        "id": "xWjmUj9vZmtB",
        "colab": {
          "base_uri": "https://localhost:8080/"
        },
        "outputId": "b0862fb9-21ea-4db5-9c42-bcf35d13746f"
      },
      "execution_count": 31,
      "outputs": [
        {
          "output_type": "stream",
          "name": "stdout",
          "text": [
            "9. Distinct Ship Modes:\n",
            "['Second Class' 'Standard Class' 'First Class' 'Same Day'] \n",
            "\n"
          ]
        }
      ]
    },
    {
      "cell_type": "code",
      "source": [
        "#11. Count the number of orders for each category\n",
        "\n",
        "print(\"10. Number of Orders per Category:\")\n",
        "print(df[\"Category\"].value_counts().reset_index().rename(\n",
        "    columns={\"index\": \"Category\", \"Category\": \"OrderCount\"}\n",
        "))\n"
      ],
      "metadata": {
        "id": "alE2SU-xZmkH",
        "colab": {
          "base_uri": "https://localhost:8080/"
        },
        "outputId": "13b8f4f3-8918-4858-dacd-ee1ee3018210"
      },
      "execution_count": 32,
      "outputs": [
        {
          "output_type": "stream",
          "name": "stdout",
          "text": [
            "10. Number of Orders per Category:\n",
            "        OrderCount  count\n",
            "0  Office Supplies   6026\n",
            "1        Furniture   2121\n",
            "2       Technology   1847\n"
          ]
        }
      ]
    }
  ]
}